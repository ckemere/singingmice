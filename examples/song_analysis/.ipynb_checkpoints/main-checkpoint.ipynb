{
 "cells": [
  {
   "cell_type": "code",
   "execution_count": 1,
   "metadata": {},
   "outputs": [
    {
     "name": "stdout",
     "output_type": "stream",
     "text": [
      "Processing /Users/yuki/Library/CloudStorage/GoogleDrive-yf2224@nyu.edu/My Drive/singingmice\n",
      "  Preparing metadata (setup.py) ... \u001b[?25ldone\n",
      "\u001b[?25hBuilding wheels for collected packages: singingmice\n",
      "  Building wheel for singingmice (setup.py) ... \u001b[?25ldone\n",
      "\u001b[?25h  Created wheel for singingmice: filename=singingmice-0.1.0-py3-none-any.whl size=23696 sha256=504f956346c85c8483aca659d4d15d517d0f8752a5b6f0a0af759dee8b119121\n",
      "  Stored in directory: /private/var/folders/mm/ch4tmb5d55l63p_45t8m3sc80000gn/T/pip-ephem-wheel-cache-_3byrq2y/wheels/fc/69/99/e6c2b1333fc1d437b2dd7e2e000faba57f809b0cbcac739647\n",
      "Successfully built singingmice\n",
      "Installing collected packages: singingmice\n",
      "  Attempting uninstall: singingmice\n",
      "    Found existing installation: singingmice 0.1.0\n",
      "    Uninstalling singingmice-0.1.0:\n",
      "      Successfully uninstalled singingmice-0.1.0\n",
      "Successfully installed singingmice-0.1.0\n"
     ]
    }
   ],
   "source": [
    "!cd ../../; pip install ."
   ]
  },
  {
   "cell_type": "code",
   "execution_count": 2,
   "metadata": {},
   "outputs": [],
   "source": [
    "from pathlib import Path\n",
    "from glob import glob\n",
    "from typing import List\n",
    "import matplotlib.pyplot as plt\n",
    "%matplotlib inline\n",
    "from natsort import natsorted\n",
    "from numpy import ndarray\n",
    "import numpy as np\n",
    "from scipy.io import wavfile\n",
    "\n",
    "\n",
    "from singingmice.basic import integers2slices\n",
    "from singingmice.song import Song, read_song"
   ]
  },
  {
   "cell_type": "code",
   "execution_count": 3,
   "metadata": {},
   "outputs": [],
   "source": [
    "dirpath = Path(\"./data/\")\n",
    "fpaths = glob(str(dirpath / \"*\"))"
   ]
  },
  {
   "cell_type": "code",
   "execution_count": 4,
   "metadata": {},
   "outputs": [
    {
     "data": {
      "text/plain": [
       "Song(singer: 1, fpath: data/song-1.wav)"
      ]
     },
     "execution_count": 4,
     "metadata": {},
     "output_type": "execute_result"
    }
   ],
   "source": [
    "fpath = fpaths[0]\n",
    "song: Song = read_song(fpath)\n",
    "song.wf = song.wf.astype(float)\n",
    "song.wf /= 32767\n",
    "song.add_reference_array(song.wf[-song.rate//4:])\n",
    "window_len: int = int(0.004 * song.rate)  # smooth 4ms window\n",
    "song.compute_wavdecibel(window_len=window_len, window='hanning')"
   ]
  },
  {
   "cell_type": "code",
   "execution_count": 5,
   "metadata": {},
   "outputs": [],
   "source": [
    "def onset_localmin(maxidxs, arr):\n",
    "    logger.info(\"a\")\n",
    "    if maxidxs[0] == 0:\n",
    "        logger.info(\"If the first maxidxs is 0, make it 1\")\n",
    "        maxidxs[1] = 1\n",
    "    start_ii = np.max([maxidxs[0] - 10000, 0])\n",
    "    first_idx = [start_ii + np.argmin(arr[start_ii : maxidxs[0]])]\n",
    "    logger.info(\"b\")\n",
    "    middle_idxs = []\n",
    "    for i, idx in enumerate(maxidxs[1:], 1):\n",
    "        val = maxidxs[i - 1] + np.argmin(arr[maxidxs[i - 1] : maxidxs[i]])\n",
    "        middle_idxs.append(val)\n",
    "    #   middle_idxs = [maxidxs[i-1] + np.argmin(arr[maxidxs[i-1]:maxidxs[i]])\n",
    "    #                  for i, idx in enumerate(maxidxs[1:], 1)]\n",
    "    return first_idx + middle_idxs\n",
    "\n",
    "\n",
    "def offset_localmin(maxidxs, arr):\n",
    "    middle_idxs = [\n",
    "        maxidxs[i] + np.argmin(arr[maxidxs[i] : maxidxs[i + 1]])\n",
    "        for i, idx in enumerate(maxidxs[:-1], 0)\n",
    "    ]\n",
    "    last_ii = np.min([maxidxs[-1] + 50000, arr.shape[0]])\n",
    "    last_idx = [maxidxs[-1] + np.argmin(arr[maxidxs[-1] : last_ii])]\n",
    "    return middle_idxs + last_idx\n",
    "\n",
    "\n",
    "def define_crossthres(maxidxs, arr, ratio):\n",
    "    logger.info(\"Define cross thresholds\")\n",
    "    logger.info(\"Find onset local min\")\n",
    "    local_min = np.array(arr[onset_localmin(maxidxs, arr)])\n",
    "    cross_thres = local_min + np.multiply((arr[maxidxs] - local_min), ratio)\n",
    "    logger.info(\"Find offset local min. Take the bigger\")\n",
    "    cross_thres = np.max([cross_thres, arr[offset_localmin(maxidxs, arr)]], axis=0)\n",
    "    return cross_thres\n",
    "\n",
    "\n",
    "def remove_by_refractory(maxidxs, slices, arr, sr, thres):\n",
    "    changed = True\n",
    "    while changed:\n",
    "        maxidxs, slices, changed = _remove_by_refractory(\n",
    "            maxidxs, slices, arr, sr, thres\n",
    "        )\n",
    "    return maxidxs, slices\n",
    "\n",
    "\n",
    "def _remove_by_refractory(maxidxs, slices, arr, sr, thres):\n",
    "    dist_mat = np.triu([abs(maxidxs - item) / sr for item in maxidxs])\n",
    "    pairs = np.array(np.where((dist_mat > 0) & (dist_mat < thres)))\n",
    "    if pairs.shape[1] == 0:\n",
    "        return maxidxs, slices, False\n",
    "    closest_pair = pairs[:, np.argmin(dist_mat[pairs[0, :], pairs[1, :]])]\n",
    "    compare_idxs = maxidxs[closest_pair]\n",
    "    toberemoved = closest_pair[np.argmin(arr[compare_idxs])]\n",
    "    newmaxidxs = np.delete(maxidxs, toberemoved)\n",
    "    slices = np.delete(slices, toberemoved)\n",
    "    return newmaxidxs, slices, True\n",
    "\n",
    "\n",
    "def remove_last_refractory(maxidxs, slices, arr, sr, thres, index_thres):\n",
    "    changed = True\n",
    "    while changed:\n",
    "        maxidxs, slices, changed = _last_refractory(\n",
    "            maxidxs, slices, arr, sr, thres, index_thres\n",
    "        )\n",
    "    return maxidxs, slices\n",
    "\n",
    "\n",
    "def _last_refractory(maxidxs, slices, arr, sr, thres, index_thres):\n",
    "    dist_mat = np.triu([abs(maxidxs - item) / sr for item in maxidxs])\n",
    "    pairs = np.array(np.where((dist_mat > 0) & (dist_mat < thres)))\n",
    "    pairs = pairs[:, np.where(pairs[0] > index_thres)[0]]\n",
    "    if pairs.shape[1] == 0:\n",
    "        return maxidxs, slices, False\n",
    "    closest_pair = pairs[:, np.argmin(dist_mat[pairs[0, :], pairs[1, :]])]\n",
    "    compare_idxs = maxidxs[closest_pair]\n",
    "    toberemoved = closest_pair[np.argmin(arr[compare_idxs])]\n",
    "    newmaxidxs = np.delete(maxidxs, toberemoved)\n",
    "    slices = np.delete(slices, toberemoved)\n",
    "    return newmaxidxs, slices, True\n",
    "\n",
    "\n",
    "def remove_by_crossthres(maxidxs, arr, cross_thres):\n",
    "    newslices = np.array(\n",
    "        [find_crossing(arr, maxidxs[i], 2) for i in range(len(maxidxs))]\n",
    "    )\n",
    "    uniqueslices = np.unique(newslices)\n",
    "    maxidxs = find_maxidxs(arr, uniqueslices)\n",
    "    return maxidxs, uniqueslices\n",
    "\n",
    "\n",
    "def first_cross(arr, start, thres, forward=True):\n",
    "    if forward:\n",
    "        where = np.where(arr[start:] <= thres)[0]\n",
    "        if where.shape[0] == 0:\n",
    "            return arr.shape[0] - 1\n",
    "        return min(arr.shape[0] - 1, start + where[0] - 1)\n",
    "    else:\n",
    "        try:\n",
    "            return max(np.where(arr[:start] < thres)[0][-1] + 1, 0)\n",
    "        except Exception as e:\n",
    "            return 0\n",
    "\n",
    "\n",
    "def find_crossing(arr, start, thres):\n",
    "    si = first_cross(arr, start, thres, False)\n",
    "    ei = first_cross(arr, start, thres, True) + 1\n",
    "    ei = min(ei + 1, arr.shape[0])\n",
    "    return slice(si, ei)\n",
    "\n",
    "\n",
    "def find_maxidxs(arr, slice_: List[slice]):\n",
    "    return np.array([s.start + np.argmax(arr[s.start : s.stop]) for s in slice_])\n",
    "\n",
    "\n",
    "def slices2notelens(slices, rate: int = 250000):\n",
    "    return np.array([(s.stop - s.start) / rate for s in slices])\n",
    "\n",
    "\n"
   ]
  },
  {
   "cell_type": "code",
   "execution_count": 6,
   "metadata": {},
   "outputs": [],
   "source": [
    "from singingmice.song import find_peakidxs_multi_thres, find_notes"
   ]
  },
  {
   "cell_type": "code",
   "execution_count": 7,
   "metadata": {},
   "outputs": [
    {
     "ename": "AttributeError",
     "evalue": "'Song' object has no attribute 'notes'",
     "output_type": "error",
     "traceback": [
      "\u001b[0;31m---------------------------------------------------------------------------\u001b[0m",
      "\u001b[0;31mAttributeError\u001b[0m                            Traceback (most recent call last)",
      "\u001b[0;32m/var/folders/mm/ch4tmb5d55l63p_45t8m3sc80000gn/T/ipykernel_52225/296057851.py\u001b[0m in \u001b[0;36m<module>\u001b[0;34m\u001b[0m\n\u001b[0;32m----> 1\u001b[0;31m \u001b[0;34m(\u001b[0m\u001b[0msong\u001b[0m\u001b[0;34m.\u001b[0m\u001b[0mnotes\u001b[0m\u001b[0;34m[\u001b[0m\u001b[0;36m1\u001b[0m\u001b[0;34m:\u001b[0m\u001b[0;34m,\u001b[0m \u001b[0;36m0\u001b[0m\u001b[0;34m]\u001b[0m \u001b[0;34m-\u001b[0m \u001b[0msong\u001b[0m\u001b[0;34m.\u001b[0m\u001b[0mnotes\u001b[0m\u001b[0;34m[\u001b[0m\u001b[0;36m0\u001b[0m\u001b[0;34m:\u001b[0m\u001b[0;34m-\u001b[0m\u001b[0;36m1\u001b[0m\u001b[0;34m,\u001b[0m \u001b[0;36m1\u001b[0m\u001b[0;34m]\u001b[0m\u001b[0;34m)\u001b[0m \u001b[0;34m/\u001b[0m \u001b[0msong\u001b[0m\u001b[0;34m.\u001b[0m\u001b[0mrate\u001b[0m\u001b[0;34m\u001b[0m\u001b[0;34m\u001b[0m\u001b[0m\n\u001b[0m",
      "\u001b[0;31mAttributeError\u001b[0m: 'Song' object has no attribute 'notes'"
     ]
    }
   ],
   "source": [
    "(song.notes[1:, 0] - song.notes[0:-1, 1]) / song.rate"
   ]
  },
  {
   "cell_type": "code",
   "execution_count": null,
   "metadata": {},
   "outputs": [],
   "source": []
  },
  {
   "cell_type": "code",
   "execution_count": 8,
   "metadata": {},
   "outputs": [
    {
     "name": "stdout",
     "output_type": "stream",
     "text": [
      "peak_idxs:  (79,) [1017907 1028437 1029813 1041869 1053566 1065357 1079646 1090815 1102473\n",
      " 1116609 1127278 1139449 1152400 1166298 1181020 1195300 1210906 1226148\n",
      " 1242108 1248217 1257726 1273378 1288094 1302478 1317868 1334410 1350289\n",
      " 1366195 1382464 1398581 1408086 1414917 1432132 1433219 1442603 1450067\n",
      " 1451181 1460579 1467455 1468546 1477905 1484988 1486176 1502632 1503832\n",
      " 1520232 1521413 1538921 1540184 1558186 1577236 1597110 1616075 1634734\n",
      " 1652928 1671523 1690063 1698042 1709320 1729361 1749861 1770238 1778183\n",
      " 1789797 1797849 1809885 1830372 1839365 1851575 1873073 1894783 1916752\n",
      " 1940734 1949974 1964856 1990263 2015952 2041922 2068111]\n",
      "cross_thres:  (79,) [ 1.          1.          1.          1.          1.          1.\n",
      "  1.          6.82772553  3.34837976  1.49101479  5.04490811  7.17590316\n",
      "  8.35705884  7.87670636  8.64080452 10.16811705 10.45138109 10.06210529\n",
      " 11.31119551  1.         14.76892153 14.78335844 15.28237144 16.98700226\n",
      " 18.69887759 18.16678488 15.72129543 17.68896414 17.56093774 20.25312586\n",
      "  1.         21.80457763 22.85853581 20.70471715  1.         23.50212807\n",
      " 21.03844701  1.         24.51902326 21.61048746  1.         25.89912278\n",
      " 23.31727061 24.80953855 22.36306412 25.17914647 22.59150883 26.49359997\n",
      " 23.831854   27.68040008 28.18115362 28.08441071 27.98950244 28.73094993\n",
      " 28.66529819 30.16457356 29.89104524  1.         29.74270673 30.21626111\n",
      " 30.2843281  30.10913855  1.         29.86564804  1.5507197  30.4303425\n",
      " 31.27836471  1.         31.29576234 30.77017666 31.09387595 31.57107641\n",
      " 31.76561966  1.         31.3073757  30.95813017 30.87535038 31.02573438\n",
      " 29.62425122]\n",
      "start:  1017907\n",
      "start:  1017907\n"
     ]
    },
    {
     "ename": "AxisError",
     "evalue": "axis 2593488 is out of bounds for array of dimension 0",
     "output_type": "error",
     "traceback": [
      "\u001b[0;31m---------------------------------------------------------------------------\u001b[0m",
      "\u001b[0;31mAxisError\u001b[0m                                 Traceback (most recent call last)",
      "\u001b[0;32m/var/folders/mm/ch4tmb5d55l63p_45t8m3sc80000gn/T/ipykernel_14667/2257954203.py\u001b[0m in \u001b[0;36m<module>\u001b[0;34m\u001b[0m\n\u001b[1;32m      1\u001b[0m \u001b[0msong\u001b[0m\u001b[0;34m.\u001b[0m\u001b[0mmaxidxs\u001b[0m \u001b[0;34m=\u001b[0m \u001b[0mfind_peakidxs_multi_thres\u001b[0m\u001b[0;34m(\u001b[0m\u001b[0msong\u001b[0m\u001b[0;34m.\u001b[0m\u001b[0mdec\u001b[0m\u001b[0;34m,\u001b[0m \u001b[0;34m[\u001b[0m\u001b[0;36m10\u001b[0m\u001b[0;34m,\u001b[0m \u001b[0;36m20\u001b[0m\u001b[0;34m,\u001b[0m \u001b[0;36m40\u001b[0m\u001b[0;34m]\u001b[0m\u001b[0;34m)\u001b[0m\u001b[0;34m\u001b[0m\u001b[0;34m\u001b[0m\u001b[0m\n\u001b[1;32m      2\u001b[0m \u001b[0;34m\u001b[0m\u001b[0m\n\u001b[0;32m----> 3\u001b[0;31m \u001b[0msong\u001b[0m\u001b[0;34m.\u001b[0m\u001b[0mnotes\u001b[0m \u001b[0;34m=\u001b[0m \u001b[0mfind_notes\u001b[0m\u001b[0;34m(\u001b[0m\u001b[0msong\u001b[0m\u001b[0;34m.\u001b[0m\u001b[0mdec\u001b[0m\u001b[0;34m,\u001b[0m \u001b[0;34m[\u001b[0m\u001b[0;36m10\u001b[0m\u001b[0;34m,\u001b[0m \u001b[0;36m20\u001b[0m\u001b[0;34m,\u001b[0m \u001b[0;36m40\u001b[0m\u001b[0;34m]\u001b[0m\u001b[0;34m)\u001b[0m\u001b[0;34m\u001b[0m\u001b[0;34m\u001b[0m\u001b[0m\n\u001b[0m\u001b[1;32m      4\u001b[0m \u001b[0;31m#         song.keep_bigger_notegroup(0.5)\u001b[0m\u001b[0;34m\u001b[0m\u001b[0;34m\u001b[0m\u001b[0m\n\u001b[1;32m      5\u001b[0m \u001b[0;34m\u001b[0m\u001b[0m\n",
      "\u001b[0;32m~/miniconda3/envs/bayesianwarp/lib/python3.10/site-packages/singingmice/song.py\u001b[0m in \u001b[0;36mfind_notes\u001b[0;34m(dec, peak_thresholds)\u001b[0m\n\u001b[1;32m    498\u001b[0m     \u001b[0mcross_thres\u001b[0m\u001b[0;34m:\u001b[0m \u001b[0mndarray\u001b[0m \u001b[0;34m=\u001b[0m \u001b[0mdefine_crossing_thresholds\u001b[0m\u001b[0;34m(\u001b[0m\u001b[0mdec\u001b[0m\u001b[0;34m,\u001b[0m \u001b[0mpeak_idxs\u001b[0m\u001b[0;34m)\u001b[0m\u001b[0;34m\u001b[0m\u001b[0;34m\u001b[0m\u001b[0m\n\u001b[1;32m    499\u001b[0m     \u001b[0mprint\u001b[0m\u001b[0;34m(\u001b[0m\u001b[0;34m\"cross_thres: \"\u001b[0m\u001b[0;34m,\u001b[0m \u001b[0mcross_thres\u001b[0m\u001b[0;34m.\u001b[0m\u001b[0mshape\u001b[0m\u001b[0;34m,\u001b[0m \u001b[0mcross_thres\u001b[0m\u001b[0;34m)\u001b[0m\u001b[0;34m\u001b[0m\u001b[0;34m\u001b[0m\u001b[0m\n\u001b[0;32m--> 500\u001b[0;31m     \u001b[0mnotes\u001b[0m\u001b[0;34m:\u001b[0m \u001b[0mndarray\u001b[0m \u001b[0;34m=\u001b[0m \u001b[0mfind_crossings\u001b[0m\u001b[0;34m(\u001b[0m\u001b[0mdec\u001b[0m\u001b[0;34m,\u001b[0m \u001b[0mpeak_idxs\u001b[0m\u001b[0;34m,\u001b[0m \u001b[0mcross_thres\u001b[0m\u001b[0;34m)\u001b[0m\u001b[0;34m\u001b[0m\u001b[0;34m\u001b[0m\u001b[0m\n\u001b[0m\u001b[1;32m    501\u001b[0m     \u001b[0mprint\u001b[0m\u001b[0;34m(\u001b[0m\u001b[0;34m\"notes: \"\u001b[0m\u001b[0;34m,\u001b[0m \u001b[0mnotes\u001b[0m\u001b[0;34m.\u001b[0m\u001b[0mshape\u001b[0m\u001b[0;34m)\u001b[0m\u001b[0;34m\u001b[0m\u001b[0;34m\u001b[0m\u001b[0m\n\u001b[1;32m    502\u001b[0m     \u001b[0mpeak_idxs\u001b[0m \u001b[0;34m=\u001b[0m \u001b[0mnp\u001b[0m\u001b[0;34m.\u001b[0m\u001b[0munique\u001b[0m\u001b[0;34m(\u001b[0m\u001b[0mfind_notepeaks\u001b[0m\u001b[0;34m(\u001b[0m\u001b[0mdec\u001b[0m\u001b[0;34m,\u001b[0m \u001b[0mnotes\u001b[0m\u001b[0;34m)\u001b[0m\u001b[0;34m)\u001b[0m\u001b[0;34m\u001b[0m\u001b[0;34m\u001b[0m\u001b[0m\n",
      "\u001b[0;32m~/miniconda3/envs/bayesianwarp/lib/python3.10/site-packages/singingmice/song.py\u001b[0m in \u001b[0;36mfind_crossings\u001b[0;34m(dec, peak_idxs, cross_thresholds)\u001b[0m\n\u001b[1;32m    459\u001b[0m def find_crossings(dec: ndarray, peak_idxs: ndarray,\n\u001b[1;32m    460\u001b[0m                    cross_thresholds: ndarray):\n\u001b[0;32m--> 461\u001b[0;31m     note_slices = np.array([find_single_crossing(dec, peak_idxs[pos],\n\u001b[0m\u001b[1;32m    462\u001b[0m                                                  cross_thresholds[pos])\n\u001b[1;32m    463\u001b[0m                             for pos in range(len(peak_idxs))])\n",
      "\u001b[0;32m~/miniconda3/envs/bayesianwarp/lib/python3.10/site-packages/singingmice/song.py\u001b[0m in \u001b[0;36m<listcomp>\u001b[0;34m(.0)\u001b[0m\n\u001b[1;32m    459\u001b[0m def find_crossings(dec: ndarray, peak_idxs: ndarray,\n\u001b[1;32m    460\u001b[0m                    cross_thresholds: ndarray):\n\u001b[0;32m--> 461\u001b[0;31m     note_slices = np.array([find_single_crossing(dec, peak_idxs[pos],\n\u001b[0m\u001b[1;32m    462\u001b[0m                                                  cross_thresholds[pos])\n\u001b[1;32m    463\u001b[0m                             for pos in range(len(peak_idxs))])\n",
      "\u001b[0;32m~/miniconda3/envs/bayesianwarp/lib/python3.10/site-packages/singingmice/song.py\u001b[0m in \u001b[0;36mfind_single_crossing\u001b[0;34m(arr, start, thres)\u001b[0m\n\u001b[1;32m    453\u001b[0m     \u001b[0msi\u001b[0m \u001b[0;34m=\u001b[0m \u001b[0mfirst_cross\u001b[0m\u001b[0;34m(\u001b[0m\u001b[0marr\u001b[0m\u001b[0;34m,\u001b[0m \u001b[0mstart\u001b[0m\u001b[0;34m,\u001b[0m \u001b[0mthres\u001b[0m\u001b[0;34m,\u001b[0m \u001b[0;32mFalse\u001b[0m\u001b[0;34m)\u001b[0m\u001b[0;34m\u001b[0m\u001b[0;34m\u001b[0m\u001b[0m\n\u001b[1;32m    454\u001b[0m     \u001b[0mei\u001b[0m \u001b[0;34m=\u001b[0m \u001b[0mfirst_cross\u001b[0m\u001b[0;34m(\u001b[0m\u001b[0marr\u001b[0m\u001b[0;34m,\u001b[0m \u001b[0mstart\u001b[0m\u001b[0;34m,\u001b[0m \u001b[0mthres\u001b[0m\u001b[0;34m,\u001b[0m \u001b[0;32mTrue\u001b[0m\u001b[0;34m)\u001b[0m \u001b[0;34m+\u001b[0m \u001b[0;36m1\u001b[0m\u001b[0;34m\u001b[0m\u001b[0;34m\u001b[0m\u001b[0m\n\u001b[0;32m--> 455\u001b[0;31m     \u001b[0mei\u001b[0m \u001b[0;34m=\u001b[0m \u001b[0mnp\u001b[0m\u001b[0;34m.\u001b[0m\u001b[0mmin\u001b[0m\u001b[0;34m(\u001b[0m\u001b[0mei\u001b[0m \u001b[0;34m+\u001b[0m \u001b[0;36m1\u001b[0m\u001b[0;34m,\u001b[0m \u001b[0marr\u001b[0m\u001b[0;34m.\u001b[0m\u001b[0mshape\u001b[0m\u001b[0;34m[\u001b[0m\u001b[0;36m0\u001b[0m\u001b[0;34m]\u001b[0m\u001b[0;34m)\u001b[0m\u001b[0;34m\u001b[0m\u001b[0;34m\u001b[0m\u001b[0m\n\u001b[0m\u001b[1;32m    456\u001b[0m     \u001b[0;32mreturn\u001b[0m \u001b[0mslice\u001b[0m\u001b[0;34m(\u001b[0m\u001b[0msi\u001b[0m\u001b[0;34m,\u001b[0m \u001b[0mei\u001b[0m\u001b[0;34m)\u001b[0m\u001b[0;34m\u001b[0m\u001b[0;34m\u001b[0m\u001b[0m\n\u001b[1;32m    457\u001b[0m \u001b[0;34m\u001b[0m\u001b[0m\n",
      "\u001b[0;32m~/miniconda3/envs/bayesianwarp/lib/python3.10/site-packages/numpy/core/overrides.py\u001b[0m in \u001b[0;36mamin\u001b[0;34m(*args, **kwargs)\u001b[0m\n",
      "\u001b[0;32m~/miniconda3/envs/bayesianwarp/lib/python3.10/site-packages/numpy/core/fromnumeric.py\u001b[0m in \u001b[0;36mamin\u001b[0;34m(a, axis, out, keepdims, initial, where)\u001b[0m\n\u001b[1;32m   2944\u001b[0m     \u001b[0;36m6\u001b[0m\u001b[0;34m\u001b[0m\u001b[0;34m\u001b[0m\u001b[0m\n\u001b[1;32m   2945\u001b[0m     \"\"\"\n\u001b[0;32m-> 2946\u001b[0;31m     return _wrapreduction(a, np.minimum, 'min', axis, None, out,\n\u001b[0m\u001b[1;32m   2947\u001b[0m                           keepdims=keepdims, initial=initial, where=where)\n\u001b[1;32m   2948\u001b[0m \u001b[0;34m\u001b[0m\u001b[0m\n",
      "\u001b[0;32m~/miniconda3/envs/bayesianwarp/lib/python3.10/site-packages/numpy/core/fromnumeric.py\u001b[0m in \u001b[0;36m_wrapreduction\u001b[0;34m(obj, ufunc, method, axis, dtype, out, **kwargs)\u001b[0m\n\u001b[1;32m     82\u001b[0m                 \u001b[0;32mreturn\u001b[0m \u001b[0mreduction\u001b[0m\u001b[0;34m(\u001b[0m\u001b[0maxis\u001b[0m\u001b[0;34m=\u001b[0m\u001b[0maxis\u001b[0m\u001b[0;34m,\u001b[0m \u001b[0mdtype\u001b[0m\u001b[0;34m=\u001b[0m\u001b[0mdtype\u001b[0m\u001b[0;34m,\u001b[0m \u001b[0mout\u001b[0m\u001b[0;34m=\u001b[0m\u001b[0mout\u001b[0m\u001b[0;34m,\u001b[0m \u001b[0;34m**\u001b[0m\u001b[0mpasskwargs\u001b[0m\u001b[0;34m)\u001b[0m\u001b[0;34m\u001b[0m\u001b[0;34m\u001b[0m\u001b[0m\n\u001b[1;32m     83\u001b[0m             \u001b[0;32melse\u001b[0m\u001b[0;34m:\u001b[0m\u001b[0;34m\u001b[0m\u001b[0;34m\u001b[0m\u001b[0m\n\u001b[0;32m---> 84\u001b[0;31m                 \u001b[0;32mreturn\u001b[0m \u001b[0mreduction\u001b[0m\u001b[0;34m(\u001b[0m\u001b[0maxis\u001b[0m\u001b[0;34m=\u001b[0m\u001b[0maxis\u001b[0m\u001b[0;34m,\u001b[0m \u001b[0mout\u001b[0m\u001b[0;34m=\u001b[0m\u001b[0mout\u001b[0m\u001b[0;34m,\u001b[0m \u001b[0;34m**\u001b[0m\u001b[0mpasskwargs\u001b[0m\u001b[0;34m)\u001b[0m\u001b[0;34m\u001b[0m\u001b[0;34m\u001b[0m\u001b[0m\n\u001b[0m\u001b[1;32m     85\u001b[0m \u001b[0;34m\u001b[0m\u001b[0m\n\u001b[1;32m     86\u001b[0m     \u001b[0;32mreturn\u001b[0m \u001b[0mufunc\u001b[0m\u001b[0;34m.\u001b[0m\u001b[0mreduce\u001b[0m\u001b[0;34m(\u001b[0m\u001b[0mobj\u001b[0m\u001b[0;34m,\u001b[0m \u001b[0maxis\u001b[0m\u001b[0;34m,\u001b[0m \u001b[0mdtype\u001b[0m\u001b[0;34m,\u001b[0m \u001b[0mout\u001b[0m\u001b[0;34m,\u001b[0m \u001b[0;34m**\u001b[0m\u001b[0mpasskwargs\u001b[0m\u001b[0;34m)\u001b[0m\u001b[0;34m\u001b[0m\u001b[0;34m\u001b[0m\u001b[0m\n",
      "\u001b[0;32m~/miniconda3/envs/bayesianwarp/lib/python3.10/site-packages/numpy/core/_methods.py\u001b[0m in \u001b[0;36m_amin\u001b[0;34m(a, axis, out, keepdims, initial, where)\u001b[0m\n\u001b[1;32m     43\u001b[0m def _amin(a, axis=None, out=None, keepdims=False,\n\u001b[1;32m     44\u001b[0m           initial=_NoValue, where=True):\n\u001b[0;32m---> 45\u001b[0;31m     \u001b[0;32mreturn\u001b[0m \u001b[0mumr_minimum\u001b[0m\u001b[0;34m(\u001b[0m\u001b[0ma\u001b[0m\u001b[0;34m,\u001b[0m \u001b[0maxis\u001b[0m\u001b[0;34m,\u001b[0m \u001b[0;32mNone\u001b[0m\u001b[0;34m,\u001b[0m \u001b[0mout\u001b[0m\u001b[0;34m,\u001b[0m \u001b[0mkeepdims\u001b[0m\u001b[0;34m,\u001b[0m \u001b[0minitial\u001b[0m\u001b[0;34m,\u001b[0m \u001b[0mwhere\u001b[0m\u001b[0;34m)\u001b[0m\u001b[0;34m\u001b[0m\u001b[0;34m\u001b[0m\u001b[0m\n\u001b[0m\u001b[1;32m     46\u001b[0m \u001b[0;34m\u001b[0m\u001b[0m\n\u001b[1;32m     47\u001b[0m def _sum(a, axis=None, dtype=None, out=None, keepdims=False,\n",
      "\u001b[0;31mAxisError\u001b[0m: axis 2593488 is out of bounds for array of dimension 0"
     ]
    }
   ],
   "source": [
    "song.maxidxs = find_peakidxs_multi_thres(song.dec, [10, 20, 40])\n",
    "\n",
    "song.notes = find_notes(song.dec, [10, 20, 40])\n",
    "#         song.keep_bigger_notegroup(0.5)\n",
    "\n",
    "\n",
    "song.find_decmax()\n",
    "song.maxidxs = song.decmaxidxs\n",
    "song.compute_notelens()\n",
    "song.find_decmax()\n",
    "# song.plot2()\n",
    "# song.savefig()\n",
    "# song.save_dec()\n",
    "# song.save_avinotes_file(song._notesfpath,\n",
    "#                 song.maxidx_fpath)\n",
    "# plt.close('all')\n"
   ]
  },
  {
   "cell_type": "code",
   "execution_count": 7,
   "metadata": {},
   "outputs": [
    {
     "name": "stdout",
     "output_type": "stream",
     "text": [
      "peak_idxs:  (79,) [1017907 1028437 1029813 1041869 1053566 1065357 1079646 1090815 1102473\n",
      " 1116609 1127278 1139449 1152400 1166298 1181020 1195300 1210906 1226148\n",
      " 1242108 1248217 1257726 1273378 1288094 1302478 1317868 1334410 1350289\n",
      " 1366195 1382464 1398581 1408086 1414917 1432132 1433219 1442603 1450067\n",
      " 1451181 1460579 1467455 1468546 1477905 1484988 1486176 1502632 1503832\n",
      " 1520232 1521413 1538921 1540184 1558186 1577236 1597110 1616075 1634734\n",
      " 1652928 1671523 1690063 1698042 1709320 1729361 1749861 1770238 1778183\n",
      " 1789797 1797849 1809885 1830372 1839365 1851575 1873073 1894783 1916752\n",
      " 1940734 1949974 1964856 1990263 2015952 2041922 2068111]\n",
      "cross_thres:  (79,) [ 1.          1.          1.          1.          1.          1.\n",
      "  1.          6.82772553  3.34837976  1.49101479  5.04490811  7.17590316\n",
      "  8.35705884  7.87670636  8.64080452 10.16811705 10.45138109 10.06210529\n",
      " 11.31119551  1.         14.76892153 14.78335844 15.28237144 16.98700226\n",
      " 18.69887759 18.16678488 15.72129543 17.68896414 17.56093774 20.25312586\n",
      "  1.         21.80457763 22.85853581 20.70471715  1.         23.50212807\n",
      " 21.03844701  1.         24.51902326 21.61048746  1.         25.89912278\n",
      " 23.31727061 24.80953855 22.36306412 25.17914647 22.59150883 26.49359997\n",
      " 23.831854   27.68040008 28.18115362 28.08441071 27.98950244 28.73094993\n",
      " 28.66529819 30.16457356 29.89104524  1.         29.74270673 30.21626111\n",
      " 30.2843281  30.10913855  1.         29.86564804  1.5507197  30.4303425\n",
      " 31.27836471  1.         31.29576234 30.77017666 31.09387595 31.57107641\n",
      " 31.76561966  1.         31.3073757  30.95813017 30.87535038 31.02573438\n",
      " 29.62425122]\n",
      "start:  1017907\n",
      "start:  1017907\n",
      "1017907 1015229 1021110\n"
     ]
    },
    {
     "ename": "AxisError",
     "evalue": "axis 2593488 is out of bounds for array of dimension 0",
     "output_type": "error",
     "traceback": [
      "\u001b[0;31m---------------------------------------------------------------------------\u001b[0m",
      "\u001b[0;31mAxisError\u001b[0m                                 Traceback (most recent call last)",
      "\u001b[0;32m/var/folders/mm/ch4tmb5d55l63p_45t8m3sc80000gn/T/ipykernel_17229/2146677074.py\u001b[0m in \u001b[0;36m<module>\u001b[0;34m\u001b[0m\n\u001b[0;32m----> 1\u001b[0;31m \u001b[0mnotes\u001b[0m \u001b[0;34m=\u001b[0m \u001b[0mfind_notes\u001b[0m\u001b[0;34m(\u001b[0m\u001b[0msong\u001b[0m\u001b[0;34m.\u001b[0m\u001b[0mdec\u001b[0m\u001b[0;34m,\u001b[0m \u001b[0;34m[\u001b[0m\u001b[0;36m10\u001b[0m\u001b[0;34m,\u001b[0m \u001b[0;36m20\u001b[0m\u001b[0;34m,\u001b[0m \u001b[0;36m40\u001b[0m\u001b[0;34m]\u001b[0m\u001b[0;34m)\u001b[0m\u001b[0;34m\u001b[0m\u001b[0;34m\u001b[0m\u001b[0m\n\u001b[0m",
      "\u001b[0;32m~/miniconda3/envs/bayesianwarp/lib/python3.10/site-packages/singingmice/song.py\u001b[0m in \u001b[0;36mfind_notes\u001b[0;34m(dec, peak_thresholds)\u001b[0m\n\u001b[1;32m    500\u001b[0m     \u001b[0mcross_thres\u001b[0m\u001b[0;34m:\u001b[0m \u001b[0mndarray\u001b[0m \u001b[0;34m=\u001b[0m \u001b[0mdefine_crossing_thresholds\u001b[0m\u001b[0;34m(\u001b[0m\u001b[0mdec\u001b[0m\u001b[0;34m,\u001b[0m \u001b[0mpeak_idxs\u001b[0m\u001b[0;34m)\u001b[0m\u001b[0;34m\u001b[0m\u001b[0;34m\u001b[0m\u001b[0m\n\u001b[1;32m    501\u001b[0m     \u001b[0mprint\u001b[0m\u001b[0;34m(\u001b[0m\u001b[0;34m\"cross_thres: \"\u001b[0m\u001b[0;34m,\u001b[0m \u001b[0mcross_thres\u001b[0m\u001b[0;34m.\u001b[0m\u001b[0mshape\u001b[0m\u001b[0;34m,\u001b[0m \u001b[0mcross_thres\u001b[0m\u001b[0;34m)\u001b[0m\u001b[0;34m\u001b[0m\u001b[0;34m\u001b[0m\u001b[0m\n\u001b[0;32m--> 502\u001b[0;31m     \u001b[0mnotes\u001b[0m\u001b[0;34m:\u001b[0m \u001b[0mndarray\u001b[0m \u001b[0;34m=\u001b[0m \u001b[0mfind_crossings\u001b[0m\u001b[0;34m(\u001b[0m\u001b[0mdec\u001b[0m\u001b[0;34m,\u001b[0m \u001b[0mpeak_idxs\u001b[0m\u001b[0;34m,\u001b[0m \u001b[0mcross_thres\u001b[0m\u001b[0;34m)\u001b[0m\u001b[0;34m\u001b[0m\u001b[0;34m\u001b[0m\u001b[0m\n\u001b[0m\u001b[1;32m    503\u001b[0m     \u001b[0mprint\u001b[0m\u001b[0;34m(\u001b[0m\u001b[0;34m\"notes: \"\u001b[0m\u001b[0;34m,\u001b[0m \u001b[0mnotes\u001b[0m\u001b[0;34m.\u001b[0m\u001b[0mshape\u001b[0m\u001b[0;34m)\u001b[0m\u001b[0;34m\u001b[0m\u001b[0;34m\u001b[0m\u001b[0m\n\u001b[1;32m    504\u001b[0m     \u001b[0mpeak_idxs\u001b[0m \u001b[0;34m=\u001b[0m \u001b[0mnp\u001b[0m\u001b[0;34m.\u001b[0m\u001b[0munique\u001b[0m\u001b[0;34m(\u001b[0m\u001b[0mfind_notepeaks\u001b[0m\u001b[0;34m(\u001b[0m\u001b[0mdec\u001b[0m\u001b[0;34m,\u001b[0m \u001b[0mnotes\u001b[0m\u001b[0;34m)\u001b[0m\u001b[0;34m)\u001b[0m\u001b[0;34m\u001b[0m\u001b[0;34m\u001b[0m\u001b[0m\n",
      "\u001b[0;32m~/miniconda3/envs/bayesianwarp/lib/python3.10/site-packages/singingmice/song.py\u001b[0m in \u001b[0;36mfind_crossings\u001b[0;34m(dec, peak_idxs, cross_thresholds)\u001b[0m\n\u001b[1;32m    461\u001b[0m def find_crossings(dec: ndarray, peak_idxs: ndarray,\n\u001b[1;32m    462\u001b[0m                    cross_thresholds: ndarray):\n\u001b[0;32m--> 463\u001b[0;31m     note_slices = np.array([find_single_crossing(dec, peak_idxs[pos],\n\u001b[0m\u001b[1;32m    464\u001b[0m                                                  cross_thresholds[pos])\n\u001b[1;32m    465\u001b[0m                             for pos in range(len(peak_idxs))])\n",
      "\u001b[0;32m~/miniconda3/envs/bayesianwarp/lib/python3.10/site-packages/singingmice/song.py\u001b[0m in \u001b[0;36m<listcomp>\u001b[0;34m(.0)\u001b[0m\n\u001b[1;32m    461\u001b[0m def find_crossings(dec: ndarray, peak_idxs: ndarray,\n\u001b[1;32m    462\u001b[0m                    cross_thresholds: ndarray):\n\u001b[0;32m--> 463\u001b[0;31m     note_slices = np.array([find_single_crossing(dec, peak_idxs[pos],\n\u001b[0m\u001b[1;32m    464\u001b[0m                                                  cross_thresholds[pos])\n\u001b[1;32m    465\u001b[0m                             for pos in range(len(peak_idxs))])\n",
      "\u001b[0;32m~/miniconda3/envs/bayesianwarp/lib/python3.10/site-packages/singingmice/song.py\u001b[0m in \u001b[0;36mfind_single_crossing\u001b[0;34m(arr, start, thres)\u001b[0m\n\u001b[1;32m    454\u001b[0m     \u001b[0mei\u001b[0m \u001b[0;34m=\u001b[0m \u001b[0mfirst_cross\u001b[0m\u001b[0;34m(\u001b[0m\u001b[0marr\u001b[0m\u001b[0;34m,\u001b[0m \u001b[0mstart\u001b[0m\u001b[0;34m,\u001b[0m \u001b[0mthres\u001b[0m\u001b[0;34m,\u001b[0m \u001b[0;32mTrue\u001b[0m\u001b[0;34m)\u001b[0m \u001b[0;34m+\u001b[0m \u001b[0;36m1\u001b[0m\u001b[0;34m\u001b[0m\u001b[0;34m\u001b[0m\u001b[0m\n\u001b[1;32m    455\u001b[0m     \u001b[0mprint\u001b[0m\u001b[0;34m(\u001b[0m\u001b[0mstart\u001b[0m\u001b[0;34m,\u001b[0m \u001b[0msi\u001b[0m\u001b[0;34m,\u001b[0m \u001b[0mei\u001b[0m\u001b[0;34m)\u001b[0m\u001b[0;34m\u001b[0m\u001b[0;34m\u001b[0m\u001b[0m\n\u001b[0;32m--> 456\u001b[0;31m     \u001b[0mei\u001b[0m \u001b[0;34m=\u001b[0m \u001b[0mnp\u001b[0m\u001b[0;34m.\u001b[0m\u001b[0mmin\u001b[0m\u001b[0;34m(\u001b[0m\u001b[0mei\u001b[0m \u001b[0;34m+\u001b[0m \u001b[0;36m1\u001b[0m\u001b[0;34m,\u001b[0m \u001b[0marr\u001b[0m\u001b[0;34m.\u001b[0m\u001b[0mshape\u001b[0m\u001b[0;34m[\u001b[0m\u001b[0;36m0\u001b[0m\u001b[0;34m]\u001b[0m\u001b[0;34m)\u001b[0m\u001b[0;34m\u001b[0m\u001b[0;34m\u001b[0m\u001b[0m\n\u001b[0m\u001b[1;32m    457\u001b[0m     \u001b[0mprint\u001b[0m\u001b[0;34m(\u001b[0m\u001b[0msi\u001b[0m\u001b[0;34m,\u001b[0m \u001b[0mei\u001b[0m\u001b[0;34m)\u001b[0m\u001b[0;34m\u001b[0m\u001b[0;34m\u001b[0m\u001b[0m\n\u001b[1;32m    458\u001b[0m     \u001b[0;32mreturn\u001b[0m \u001b[0mslice\u001b[0m\u001b[0;34m(\u001b[0m\u001b[0msi\u001b[0m\u001b[0;34m,\u001b[0m \u001b[0mei\u001b[0m\u001b[0;34m)\u001b[0m\u001b[0;34m\u001b[0m\u001b[0;34m\u001b[0m\u001b[0m\n",
      "\u001b[0;32m~/miniconda3/envs/bayesianwarp/lib/python3.10/site-packages/numpy/core/overrides.py\u001b[0m in \u001b[0;36mamin\u001b[0;34m(*args, **kwargs)\u001b[0m\n",
      "\u001b[0;32m~/miniconda3/envs/bayesianwarp/lib/python3.10/site-packages/numpy/core/fromnumeric.py\u001b[0m in \u001b[0;36mamin\u001b[0;34m(a, axis, out, keepdims, initial, where)\u001b[0m\n\u001b[1;32m   2944\u001b[0m     \u001b[0;36m6\u001b[0m\u001b[0;34m\u001b[0m\u001b[0;34m\u001b[0m\u001b[0m\n\u001b[1;32m   2945\u001b[0m     \"\"\"\n\u001b[0;32m-> 2946\u001b[0;31m     return _wrapreduction(a, np.minimum, 'min', axis, None, out,\n\u001b[0m\u001b[1;32m   2947\u001b[0m                           keepdims=keepdims, initial=initial, where=where)\n\u001b[1;32m   2948\u001b[0m \u001b[0;34m\u001b[0m\u001b[0m\n",
      "\u001b[0;32m~/miniconda3/envs/bayesianwarp/lib/python3.10/site-packages/numpy/core/fromnumeric.py\u001b[0m in \u001b[0;36m_wrapreduction\u001b[0;34m(obj, ufunc, method, axis, dtype, out, **kwargs)\u001b[0m\n\u001b[1;32m     82\u001b[0m                 \u001b[0;32mreturn\u001b[0m \u001b[0mreduction\u001b[0m\u001b[0;34m(\u001b[0m\u001b[0maxis\u001b[0m\u001b[0;34m=\u001b[0m\u001b[0maxis\u001b[0m\u001b[0;34m,\u001b[0m \u001b[0mdtype\u001b[0m\u001b[0;34m=\u001b[0m\u001b[0mdtype\u001b[0m\u001b[0;34m,\u001b[0m \u001b[0mout\u001b[0m\u001b[0;34m=\u001b[0m\u001b[0mout\u001b[0m\u001b[0;34m,\u001b[0m \u001b[0;34m**\u001b[0m\u001b[0mpasskwargs\u001b[0m\u001b[0;34m)\u001b[0m\u001b[0;34m\u001b[0m\u001b[0;34m\u001b[0m\u001b[0m\n\u001b[1;32m     83\u001b[0m             \u001b[0;32melse\u001b[0m\u001b[0;34m:\u001b[0m\u001b[0;34m\u001b[0m\u001b[0;34m\u001b[0m\u001b[0m\n\u001b[0;32m---> 84\u001b[0;31m                 \u001b[0;32mreturn\u001b[0m \u001b[0mreduction\u001b[0m\u001b[0;34m(\u001b[0m\u001b[0maxis\u001b[0m\u001b[0;34m=\u001b[0m\u001b[0maxis\u001b[0m\u001b[0;34m,\u001b[0m \u001b[0mout\u001b[0m\u001b[0;34m=\u001b[0m\u001b[0mout\u001b[0m\u001b[0;34m,\u001b[0m \u001b[0;34m**\u001b[0m\u001b[0mpasskwargs\u001b[0m\u001b[0;34m)\u001b[0m\u001b[0;34m\u001b[0m\u001b[0;34m\u001b[0m\u001b[0m\n\u001b[0m\u001b[1;32m     85\u001b[0m \u001b[0;34m\u001b[0m\u001b[0m\n\u001b[1;32m     86\u001b[0m     \u001b[0;32mreturn\u001b[0m \u001b[0mufunc\u001b[0m\u001b[0;34m.\u001b[0m\u001b[0mreduce\u001b[0m\u001b[0;34m(\u001b[0m\u001b[0mobj\u001b[0m\u001b[0;34m,\u001b[0m \u001b[0maxis\u001b[0m\u001b[0;34m,\u001b[0m \u001b[0mdtype\u001b[0m\u001b[0;34m,\u001b[0m \u001b[0mout\u001b[0m\u001b[0;34m,\u001b[0m \u001b[0;34m**\u001b[0m\u001b[0mpasskwargs\u001b[0m\u001b[0;34m)\u001b[0m\u001b[0;34m\u001b[0m\u001b[0;34m\u001b[0m\u001b[0m\n",
      "\u001b[0;32m~/miniconda3/envs/bayesianwarp/lib/python3.10/site-packages/numpy/core/_methods.py\u001b[0m in \u001b[0;36m_amin\u001b[0;34m(a, axis, out, keepdims, initial, where)\u001b[0m\n\u001b[1;32m     43\u001b[0m def _amin(a, axis=None, out=None, keepdims=False,\n\u001b[1;32m     44\u001b[0m           initial=_NoValue, where=True):\n\u001b[0;32m---> 45\u001b[0;31m     \u001b[0;32mreturn\u001b[0m \u001b[0mumr_minimum\u001b[0m\u001b[0;34m(\u001b[0m\u001b[0ma\u001b[0m\u001b[0;34m,\u001b[0m \u001b[0maxis\u001b[0m\u001b[0;34m,\u001b[0m \u001b[0;32mNone\u001b[0m\u001b[0;34m,\u001b[0m \u001b[0mout\u001b[0m\u001b[0;34m,\u001b[0m \u001b[0mkeepdims\u001b[0m\u001b[0;34m,\u001b[0m \u001b[0minitial\u001b[0m\u001b[0;34m,\u001b[0m \u001b[0mwhere\u001b[0m\u001b[0;34m)\u001b[0m\u001b[0;34m\u001b[0m\u001b[0;34m\u001b[0m\u001b[0m\n\u001b[0m\u001b[1;32m     46\u001b[0m \u001b[0;34m\u001b[0m\u001b[0m\n\u001b[1;32m     47\u001b[0m def _sum(a, axis=None, dtype=None, out=None, keepdims=False,\n",
      "\u001b[0;31mAxisError\u001b[0m: axis 2593488 is out of bounds for array of dimension 0"
     ]
    }
   ],
   "source": [
    "notes = find_notes(song.dec, [10, 20, 40])"
   ]
  },
  {
   "cell_type": "code",
   "execution_count": 13,
   "metadata": {},
   "outputs": [
    {
     "ename": "AttributeError",
     "evalue": "'Song' object has no attribute 'notes'",
     "output_type": "error",
     "traceback": [
      "\u001b[0;31m---------------------------------------------------------------------------\u001b[0m",
      "\u001b[0;31mAttributeError\u001b[0m                            Traceback (most recent call last)",
      "\u001b[0;32m/var/folders/mm/ch4tmb5d55l63p_45t8m3sc80000gn/T/ipykernel_8438/710096203.py\u001b[0m in \u001b[0;36m<module>\u001b[0;34m\u001b[0m\n\u001b[1;32m      8\u001b[0m         \u001b[0msong\u001b[0m\u001b[0;34m.\u001b[0m\u001b[0mdec\u001b[0m\u001b[0;34m,\u001b[0m\u001b[0;34m\u001b[0m\u001b[0;34m\u001b[0m\u001b[0m\n\u001b[1;32m      9\u001b[0m         color='k')\n\u001b[0;32m---> 10\u001b[0;31m ax.vlines(song.time[song.notes[:, 0]],\n\u001b[0m\u001b[1;32m     11\u001b[0m           \u001b[0;36m0\u001b[0m\u001b[0;34m,\u001b[0m \u001b[0;36m50\u001b[0m\u001b[0;34m,\u001b[0m\u001b[0;34m\u001b[0m\u001b[0;34m\u001b[0m\u001b[0m\n\u001b[1;32m     12\u001b[0m           \u001b[0mcolor\u001b[0m\u001b[0;34m=\u001b[0m\u001b[0;34m'g'\u001b[0m\u001b[0;34m,\u001b[0m\u001b[0;34m\u001b[0m\u001b[0;34m\u001b[0m\u001b[0m\n",
      "\u001b[0;31mAttributeError\u001b[0m: 'Song' object has no attribute 'notes'"
     ]
    },
    {
     "data": {
      "image/png": "[encoded data removed]",
      "text/plain": [
       "<Figure size 600x400 with 3 Axes>"
      ]
     },
     "metadata": {},
     "output_type": "display_data"
    }
   ],
   "source": [
    "fig, axs = plt.subplots(3, figsize=(6, 4), sharex=True)\n",
    "ax = axs[0]\n",
    "ax.plot(song.time,\n",
    "        song.wf,\n",
    "        color='k')\n",
    "ax = axs[1]\n",
    "ax.plot(song.time,\n",
    "        song.dec,\n",
    "        color='k')\n",
    "ax.vlines(song.time[song.notes[:, 0]],\n",
    "          0, 50,\n",
    "          color='g',\n",
    "          lw=0.2)\n",
    "ax.vlines(song.time[song.notes[:, 1]],\n",
    "          0, 50,\n",
    "          color='r',\n",
    "          lw=0.2)"
   ]
  },
  {
   "cell_type": "code",
   "execution_count": 8,
   "metadata": {},
   "outputs": [
    {
     "name": "stdout",
     "output_type": "stream",
     "text": [
      "/Users/yuki/Library/CloudStorage/GoogleDrive-yf2224@nyu.edu/My Drive/singingmice/examples/song_analysis\n"
     ]
    }
   ],
   "source": [
    "!pwd"
   ]
  },
  {
   "cell_type": "code",
   "execution_count": 3,
   "metadata": {},
   "outputs": [
    {
     "name": "stdout",
     "output_type": "stream",
     "text": [
      "Collecting natsort\n",
      "  Using cached natsort-8.4.0-py3-none-any.whl (38 kB)\n",
      "Installing collected packages: natsort\n",
      "Successfully installed natsort-8.4.0\n"
     ]
    }
   ],
   "source": [
    "!pip install natsort"
   ]
  },
  {
   "cell_type": "code",
   "execution_count": 2,
   "metadata": {},
   "outputs": [],
   "source": []
  },
  {
   "cell_type": "code",
   "execution_count": null,
   "metadata": {},
   "outputs": [],
   "source": []
  },
  {
   "cell_type": "code",
   "execution_count": 7,
   "metadata": {},
   "outputs": [
    {
     "ename": "NameError",
     "evalue": "name 'test' is not defined",
     "output_type": "error",
     "traceback": [
      "\u001b[0;31m---------------------------------------------------------------------------\u001b[0m",
      "\u001b[0;31mNameError\u001b[0m                                 Traceback (most recent call last)",
      "\u001b[0;32m/var/folders/mm/ch4tmb5d55l63p_45t8m3sc80000gn/T/ipykernel_83592/2210196641.py\u001b[0m in \u001b[0;36m<module>\u001b[0;34m\u001b[0m\n\u001b[0;32m----> 1\u001b[0;31m \u001b[0mtest\u001b[0m\u001b[0;34m.\u001b[0m\u001b[0mnumpy_test\u001b[0m\u001b[0;34m(\u001b[0m\u001b[0;36m2\u001b[0m\u001b[0;34m)\u001b[0m\u001b[0;34m\u001b[0m\u001b[0;34m\u001b[0m\u001b[0m\n\u001b[0m",
      "\u001b[0;31mNameError\u001b[0m: name 'test' is not defined"
     ]
    }
   ],
   "source": [
    "test.numpy_test(2)"
   ]
  },
  {
   "cell_type": "code",
   "execution_count": null,
   "metadata": {},
   "outputs": [],
   "source": []
  }
 ],
 "metadata": {
  "kernelspec": {
   "display_name": "singingmice",
   "language": "python",
   "name": "python3"
  },
  "language_info": {
   "codemirror_mode": {
    "name": "ipython",
    "version": 3
   },
   "file_extension": ".py",
   "mimetype": "text/x-python",
   "name": "python",
   "nbconvert_exporter": "python",
   "pygments_lexer": "ipython3",
   "version": "3.10.10"
  },
  "orig_nbformat": 4
 },
 "nbformat": 4,
 "nbformat_minor": 2
}
